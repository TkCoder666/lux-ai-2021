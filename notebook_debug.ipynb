{
 "cells": [
  {
   "cell_type": "code",
   "execution_count": 1,
   "metadata": {},
   "outputs": [],
   "source": [
    "%load_ext autoreload\n",
    "%autoreload 2"
   ]
  },
  {
   "cell_type": "code",
   "execution_count": 2,
   "metadata": {},
   "outputs": [
    {
     "name": "stdout",
     "output_type": "stream",
     "text": [
      "Loading environment football failed: No module named 'gfootball'\n"
     ]
    }
   ],
   "source": [
    "import pickle\n",
    "from agent import game_logic\n",
    "\n",
    "str_step = \"010\"\n",
    "with open('snapshots/observation-{}.pkl'.format(str_step), 'rb') as handle:\n",
    "    observation = pickle.load(handle)\n",
    "with open('snapshots/game_state-{}.pkl'.format(str_step), 'rb') as handle:\n",
    "    game_state = pickle.load(handle)\n",
    "with open('snapshots/missions-{}.pkl'.format(str_step), 'rb') as handle:\n",
    "    missions = pickle.load(handle)"
   ]
  },
  {
   "cell_type": "code",
   "execution_count": 3,
   "metadata": {},
   "outputs": [
    {
     "name": "stdout",
     "output_type": "stream",
     "text": [
      "research 2 3\n",
      "plan mission to build citytile u_1 (1, 3)\n",
      "attempting action for u_3 (4, 5)\n",
      "make move u_3 (4, 5) e\n",
      "actions_by_cities ['r 2 3']\n",
      "actions_by_units ['m u_3 e']\n",
      "mission_annotations ['dl 1 3 1 3', 'dc 1 3', 'dl 4 5 10 5', 'dx 10 5', \"dst 'U:2 C:2'\"]\n",
      "movement_annotations ['dl 4 5 5 5']\n"
     ]
    },
    {
     "data": {
      "text/plain": [
       "(['r 2 3',\n",
       "  'm u_3 e',\n",
       "  'dl 1 3 1 3',\n",
       "  'dc 1 3',\n",
       "  'dl 4 5 10 5',\n",
       "  'dx 10 5',\n",
       "  \"dst 'U:2 C:2'\",\n",
       "  'dl 4 5 5 5'],\n",
       " <lux.game.Game at 0x10d743760>,\n",
       " Missions(None,\n",
       "          {'u_1': <actions.Mission at 0x1047b7e50>,\n",
       "           'u_3': <actions.Mission at 0x10dd8ec70>}))"
      ]
     },
     "execution_count": 3,
     "metadata": {},
     "output_type": "execute_result"
    }
   ],
   "source": [
    "game_logic(game_state, missions, DEBUG=True)"
   ]
  },
  {
   "cell_type": "code",
   "execution_count": 4,
   "metadata": {},
   "outputs": [
    {
     "name": "stdout",
     "output_type": "stream",
     "text": [
      "[[ 0  0  0  0  0  0  0  0  0  0  0  0]\n",
      " [ 0  0  0  0  0  0  0  0  0  0  0  0]\n",
      " [ 0  0  0  5  0  0  0  0  5  0  0  0]\n",
      " [ 5  5 10 10  5  0  0  5 10 10  5  5]\n",
      " [15 20 15 15  5  0  0  5 15 15 20 15]\n",
      " [20 15 10  5  0  0  0  0  5 10 15 20]\n",
      " [10 10  0  0  0  0  0  0  0  0 10 10]\n",
      " [ 5  0  0  0  0  0  0  0  0  0  0  5]\n",
      " [ 0  0  0  0  0  0  0  0  0  0  0  0]\n",
      " [ 0  0  0  0  0  0  0  0  0  0  0  0]\n",
      " [ 0  0  0  0  0  0  0  0  0  0  0  0]\n",
      " [ 0  0  0  0  0  0  0  0  0  0  0  0]]\n"
     ]
    }
   ],
   "source": [
    "import numpy as np\n",
    "print(np.array(game_state.convolved_rate_matrix))"
   ]
  },
  {
   "cell_type": "code",
   "execution_count": null,
   "metadata": {},
   "outputs": [],
   "source": []
  }
 ],
 "metadata": {
  "kernelspec": {
   "display_name": "Python [conda env:lux-ai]",
   "language": "python",
   "name": "conda-env-lux-ai-py"
  },
  "language_info": {
   "codemirror_mode": {
    "name": "ipython",
    "version": 3
   },
   "file_extension": ".py",
   "mimetype": "text/x-python",
   "name": "python",
   "nbconvert_exporter": "python",
   "pygments_lexer": "ipython3",
   "version": "3.9.6"
  }
 },
 "nbformat": 4,
 "nbformat_minor": 5
}
