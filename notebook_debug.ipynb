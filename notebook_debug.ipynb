{
 "cells": [
  {
   "cell_type": "code",
   "execution_count": 1,
   "metadata": {},
   "outputs": [],
   "source": [
    "%load_ext autoreload\n",
    "%autoreload 2"
   ]
  },
  {
   "cell_type": "code",
   "execution_count": 2,
   "metadata": {},
   "outputs": [
    {
     "name": "stdout",
     "output_type": "stream",
     "text": [
      "Loading environment football failed: No module named 'gfootball'\n"
     ]
    }
   ],
   "source": [
    "import pickle\n",
    "from agent import game_logic\n",
    "\n",
    "str_step = \"090\"\n",
    "with open('snapshots/observation-{}.pkl'.format(str_step), 'rb') as handle:\n",
    "    observation = pickle.load(handle)\n",
    "with open('snapshots/game_state-{}.pkl'.format(str_step), 'rb') as handle:\n",
    "    game_state = pickle.load(handle)\n",
    "with open('snapshots/missions-{}.pkl'.format(str_step), 'rb') as handle:\n",
    "    missions = pickle.load(handle)"
   ]
  },
  {
   "cell_type": "code",
   "execution_count": 3,
   "metadata": {},
   "outputs": [
    {
     "name": "stdout",
     "output_type": "stream",
     "text": [
      "plan mission to build citytile u_4 (0, 3)\n",
      "plan mission to build citytile u_5 (3, 1)\n",
      "plan mission to build citytile u_7 (2, 10)\n",
      "plan mission to build citytile u_12 (0, 8)\n",
      "attempting action for u_4 (0, 1)\n",
      "make move u_4 (0, 1) n\n",
      "attempting action for u_5 (1, 1)\n",
      "make move u_5 (1, 1) n\n",
      "attempting action for u_7 (2, 10)\n",
      "location reached and make action u_7 (2, 10)\n",
      "attempting action for u_9 (2, 2)\n",
      "make move u_9 (2, 2) e\n",
      "attempting action for u_14 (1, 9)\n",
      "make move u_14 (1, 9) e\n",
      "actions_by_cities []\n",
      "actions_by_units ['m u_4 n', 'm u_5 n', 'bcity u_7', 'm u_9 e', 'm u_14 e']\n",
      "mission_annotations ['dl 0 1 0 3', 'dc 0 3', 'dl 2 10 2 10', 'dc 2 10', 'dl 0 5 0 11', 'dx 0 11', 'dl 0 10 0 8', 'dc 0 8', 'dl 1 1 3 1', 'dc 3 1', 'dl 4 4 6 9', 'dx 6 9', 'dl 1 6 6 8', 'dx 6 8', 'dl 2 2 7 2', 'dx 7 2', 'dl 1 9 5 4', 'dx 5 4', 'dl 2 6 7 8', 'dx 7 8', \"dst 'U:10 C:10'\"]\n",
      "movement_annotations ['dl 0 1 0 0', 'dl 1 1 1 0', 'dl 2 2 3 2', 'dl 1 9 2 9']\n"
     ]
    }
   ],
   "source": [
    "_ = game_logic(game_state, missions, DEBUG=True)"
   ]
  },
  {
   "cell_type": "code",
   "execution_count": 4,
   "metadata": {},
   "outputs": [
    {
     "name": "stdout",
     "output_type": "stream",
     "text": [
      "[[ 15  15   5   0   0   0   0   0   0   0   0   0]\n",
      " [ 15  15   5   0   0   0  50  50   0   0   0   0]\n",
      " [  5   5   0   0   0  50 150 150  50   0   0   0]\n",
      " [  0   0   0   0   0  50 200 150  50   0   0   0]\n",
      " [  0   0   0   0   0  50 100 100   0   0   0   0]\n",
      " [  0   0   0   0   0   0  50   0   0   0   0   0]\n",
      " [  0   0   0   0   0   0  50   0   0   0   0   0]\n",
      " [  0   0   0   0   0  50 100 100   0   0   0   0]\n",
      " [  0   0   0   0   0  50 200 150  50   0   0   0]\n",
      " [  5   5   0   0   0  50 150 150  50   0   0   0]\n",
      " [ 15  15   5   0   0   0  50  50   0   0   0   0]\n",
      " [ 15  15   5   0   0   0   0   0   0   0   0   0]]\n"
     ]
    }
   ],
   "source": [
    "import numpy as np\n",
    "print(np.array(game_state.convolved_rate_matrix))"
   ]
  },
  {
   "cell_type": "code",
   "execution_count": null,
   "metadata": {},
   "outputs": [],
   "source": []
  }
 ],
 "metadata": {
  "kernelspec": {
   "display_name": "Python [conda env:lux-ai]",
   "language": "python",
   "name": "conda-env-lux-ai-py"
  },
  "language_info": {
   "codemirror_mode": {
    "name": "ipython",
    "version": 3
   },
   "file_extension": ".py",
   "mimetype": "text/x-python",
   "name": "python",
   "nbconvert_exporter": "python",
   "pygments_lexer": "ipython3",
   "version": "3.9.6"
  }
 },
 "nbformat": 4,
 "nbformat_minor": 5
}
