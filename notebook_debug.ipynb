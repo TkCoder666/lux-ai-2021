{
 "cells": [
  {
   "cell_type": "code",
   "execution_count": 1,
   "id": "b15f682c",
   "metadata": {},
   "outputs": [],
   "source": [
    "%load_ext autoreload\n",
    "%autoreload 2"
   ]
  },
  {
   "cell_type": "code",
   "execution_count": 2,
   "id": "f243fa7e",
   "metadata": {},
   "outputs": [
    {
     "name": "stdout",
     "output_type": "stream",
     "text": [
      "Loading environment football failed: No module named 'gfootball'\n"
     ]
    }
   ],
   "source": [
    "import pickle\n",
    "from agent import game_logic\n",
    "\n",
    "str_step = \"010\"\n",
    "with open('snapshots/observation-{}.pkl'.format(str_step), 'rb') as handle:\n",
    "    observation = pickle.load(handle)\n",
    "with open('snapshots/game_state-{}.pkl'.format(str_step), 'rb') as handle:\n",
    "    game_state = pickle.load(handle)\n",
    "with open('snapshots/missions-{}.pkl'.format(str_step), 'rb') as handle:\n",
    "    missions = pickle.load(handle)"
   ]
  },
  {
   "cell_type": "code",
   "execution_count": 3,
   "id": "bf3eb200",
   "metadata": {},
   "outputs": [
    {
     "name": "stdout",
     "output_type": "stream",
     "text": [
      "Tile and unit counts: 2 2\n",
      "[(1, 10), (1, 9)]\n",
      "[[[   0    0    0    0    0    0    0    0    0    0    0    0]\n",
      "  [   0    0    0    0    0    0    0    0    0    0    0    0]\n",
      "  [   0    0    0    0    0    0    0    0    0    0    0    0]\n",
      "  [   0    0    0    0    0    0    0    0    0    0    0    0]\n",
      "  [   0    0    0    0  357    0    0  357    0    0    0    0]\n",
      "  [   0    0    0  357  357  747  747  357  357    0    0    0]\n",
      "  [   0    0    0    0  747 1196 1196  747    0    0    0    0]\n",
      "  [   0  680    0    0  416 1222 1222  416    0    0  600    0]\n",
      "  [ 680 1320 1440    0    0  416  416    0    0 1360 1280  600]\n",
      "  [ 640 2080 1400  760    0    0    0    0  760 1440 2040  680]\n",
      "  [   0  640  760    0    0    0    0    0    0  760  680    0]\n",
      "  [   0    0    0    0    0    0    0    0    0    0    0    0]]]\n",
      "research 2 8\n",
      "{'u_1': (1, 10), 'u_3': (1, 9)}\n",
      "{'u_1': 'bcity u_1', 'u_3': 'm u_3 c'}\n"
     ]
    },
    {
     "data": {
      "text/plain": [
       "(['r 2 8'], <lux.game.Game at 0x10db7b700>, <actions.Missions at 0x15ec16310>)"
      ]
     },
     "execution_count": 3,
     "metadata": {},
     "output_type": "execute_result"
    }
   ],
   "source": [
    "game_logic(observation, game_state, missions, DEBUG=True)"
   ]
  },
  {
   "cell_type": "code",
   "execution_count": null,
   "id": "ad6f5cb7",
   "metadata": {},
   "outputs": [],
   "source": []
  }
 ],
 "metadata": {
  "kernelspec": {
   "display_name": "Python [conda env:lux-ai] *",
   "language": "python",
   "name": "conda-env-lux-ai-py"
  },
  "language_info": {
   "codemirror_mode": {
    "name": "ipython",
    "version": 3
   },
   "file_extension": ".py",
   "mimetype": "text/x-python",
   "name": "python",
   "nbconvert_exporter": "python",
   "pygments_lexer": "ipython3",
   "version": "3.9.6"
  }
 },
 "nbformat": 4,
 "nbformat_minor": 5
}
